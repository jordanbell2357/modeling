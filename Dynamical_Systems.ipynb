{
 "cells": [
  {
   "cell_type": "markdown",
   "id": "beca4234-6cff-48a1-9eb5-917088a5bba1",
   "metadata": {},
   "source": [
    "$s'(t) = f(s(t),t)$\n",
    "\n",
    "$f(s,t) = \\nu \\left(1-\\frac{s}{C}\\right) s$"
   ]
  },
  {
   "cell_type": "code",
   "execution_count": 1,
   "id": "77057b4f-e9f1-4637-8e9d-57d0cdd3caf2",
   "metadata": {},
   "outputs": [],
   "source": [
    "A1 = 1\n",
    "A2 = 1\n",
    "A3 = 1\n",
    "\n",
    "V1 = 0.5\n",
    "V2 = 0.5\n",
    "V3 = 1\n",
    "V4 = 1\n",
    "\n",
    "m_in = A1*V1 + A2*V2 + A3*V3"
   ]
  },
  {
   "cell_type": "code",
   "execution_count": 2,
   "id": "65fc959a-5424-4f60-89c8-dfe23cd45204",
   "metadata": {},
   "outputs": [
    {
     "data": {
      "text/plain": [
       "2.0"
      ]
     },
     "execution_count": 2,
     "metadata": {},
     "output_type": "execute_result"
    }
   ],
   "source": [
    "m_in"
   ]
  },
  {
   "cell_type": "code",
   "execution_count": null,
   "id": "a923dc27-dc58-4eb2-9d02-97768e0fed50",
   "metadata": {},
   "outputs": [],
   "source": []
  }
 ],
 "metadata": {
  "kernelspec": {
   "display_name": "Python 3 (ipykernel)",
   "language": "python",
   "name": "python3"
  },
  "language_info": {
   "codemirror_mode": {
    "name": "ipython",
    "version": 3
   },
   "file_extension": ".py",
   "mimetype": "text/x-python",
   "name": "python",
   "nbconvert_exporter": "python",
   "pygments_lexer": "ipython3",
   "version": "3.9.16"
  }
 },
 "nbformat": 4,
 "nbformat_minor": 5
}
