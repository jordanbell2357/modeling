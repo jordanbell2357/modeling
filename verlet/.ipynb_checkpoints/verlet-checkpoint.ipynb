{
 "cells": [
  {
   "cell_type": "code",
   "execution_count": 1,
   "id": "015f5f61-7d8a-4f3e-9f70-d3fc21cf10ef",
   "metadata": {},
   "outputs": [],
   "source": [
    "m1 = 10E20\n",
    "m2 = 10E12\n",
    "G = 6.67408E-11\n",
    "delta_t = 1000\n",
    "\n",
    "x1 = {0:0, delta_t:6.67408E-5}\n",
    "x2 = {0:10E6, delta_t:993325.92}\n",
    "\n",
    "v1 = {0:0, delta_t/2:6.67408E-8}\n",
    "v2 = {0:0, delta_t/2:-6.67408}"
   ]
  },
  {
   "cell_type": "code",
   "execution_count": 12,
   "id": "14e6f8eb-2d15-414d-b5e8-1ae668b4453c",
   "metadata": {},
   "outputs": [],
   "source": [
    "F1 = {0:G*m1*m2 / abs(x1[0] - x2[0]), delta_t:G*m1*m2 / abs(x1[delta_t] - x2[delta_t])}\n",
    "F2 = {0:-G*m1*m2 / abs(x1[0] - x2[0]), delta_t:-G*m1*m2 / abs(x1[delta_t] - x2[delta_t])}"
   ]
  },
  {
   "cell_type": "code",
   "execution_count": 15,
   "id": "a4f564c5-5d3f-429a-b20c-3ea195fd1c02",
   "metadata": {},
   "outputs": [],
   "source": [
    "a1 = {0:F1[0] / m1, delta_t:F1[delta_t] / m1}\n",
    "a2 = {0:F2[0] / m2, delta_t:F2[delta_t] / m2}"
   ]
  },
  {
   "cell_type": "code",
   "execution_count": null,
   "id": "86209e0c-409e-4e0b-852b-d8c0e13d21e8",
   "metadata": {},
   "outputs": [],
   "source": [
    "v2[3/2 * delta_t] = v2[1/2 * delta_t] + delta_t * a2[delta_t]"
   ]
  }
 ],
 "metadata": {
  "kernelspec": {
   "display_name": "Python 3 (ipykernel)",
   "language": "python",
   "name": "python3"
  },
  "language_info": {
   "codemirror_mode": {
    "name": "ipython",
    "version": 3
   },
   "file_extension": ".py",
   "mimetype": "text/x-python",
   "name": "python",
   "nbconvert_exporter": "python",
   "pygments_lexer": "ipython3",
   "version": "3.9.16"
  }
 },
 "nbformat": 4,
 "nbformat_minor": 5
}
