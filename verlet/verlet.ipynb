{
 "cells": [
  {
   "cell_type": "markdown",
   "id": "08c5da70-0179-4c3a-9a04-3f8074adadef",
   "metadata": {},
   "source": [
    "<https://www.coursera.org/learn/modeling-simulation-natural-processes/exam/HFO5I/particles-and-point-like-objects/attempt>"
   ]
  },
  {
   "cell_type": "code",
   "execution_count": 41,
   "id": "9e4dc3e0-a7bb-41e8-adcd-0931aad40153",
   "metadata": {},
   "outputs": [],
   "source": [
    "G = 6.67408E-11\n",
    "delta_t = 1000"
   ]
  },
  {
   "cell_type": "code",
   "execution_count": 42,
   "id": "9b8f03f7-95c2-49ae-848c-60adb544f589",
   "metadata": {},
   "outputs": [],
   "source": [
    "m1 = 10E20\n",
    "m2 = 10E12"
   ]
  },
  {
   "cell_type": "code",
   "execution_count": 43,
   "id": "015f5f61-7d8a-4f3e-9f70-d3fc21cf10ef",
   "metadata": {},
   "outputs": [],
   "source": [
    "x1 = {0:0, delta_t:6.67408E-5}\n",
    "x2 = {0:10E6, delta_t:993325.92}"
   ]
  },
  {
   "cell_type": "code",
   "execution_count": 44,
   "id": "f885e3bc-7d87-45e8-a191-2677ff83883e",
   "metadata": {},
   "outputs": [],
   "source": [
    "v1 = {0:0, delta_t/2:6.67408E-8}\n",
    "v2 = {0:0, delta_t/2:-6.67408}"
   ]
  },
  {
   "cell_type": "code",
   "execution_count": 45,
   "id": "14e6f8eb-2d15-414d-b5e8-1ae668b4453c",
   "metadata": {},
   "outputs": [],
   "source": [
    "F1 = {0:G*m1*m2 / abs(x1[0] - x2[0])**2, delta_t:G*m1*m2 / abs(x1[delta_t] - x2[delta_t])**2}\n",
    "F2 = {0:-G*m1*m2 / abs(x1[0] - x2[0])**2, delta_t:-G*m1*m2 / abs(x1[delta_t] - x2[delta_t])**2}"
   ]
  },
  {
   "cell_type": "code",
   "execution_count": 46,
   "id": "a4f564c5-5d3f-429a-b20c-3ea195fd1c02",
   "metadata": {},
   "outputs": [],
   "source": [
    "a1 = {0:F1[0] / m1, delta_t:F1[delta_t] / m1}\n",
    "a2 = {0:F2[0] / m2, delta_t:F2[delta_t] / m2}"
   ]
  },
  {
   "cell_type": "code",
   "execution_count": 47,
   "id": "86209e0c-409e-4e0b-852b-d8c0e13d21e8",
   "metadata": {},
   "outputs": [],
   "source": [
    "v1[3/2 * delta_t] = v1[1/2 * delta_t] + delta_t * a1[delta_t]\n",
    "v2[3/2 * delta_t] = v2[1/2 * delta_t] + delta_t * a2[delta_t]"
   ]
  },
  {
   "cell_type": "code",
   "execution_count": 48,
   "id": "77f45046-5a5d-42dc-ae54-b62153256bea",
   "metadata": {},
   "outputs": [],
   "source": [
    "x1[delta_t + delta_t] = x1[delta_t] + delta_t * v1[delta_t + 1/2 * delta_t]\n",
    "x2[delta_t + delta_t] = x2[delta_t] + delta_t * v2[delta_t + 1/2 * delta_t]"
   ]
  },
  {
   "cell_type": "code",
   "execution_count": 51,
   "id": "5f773cb7-4876-4f17-bca0-5981214d769f",
   "metadata": {},
   "outputs": [
    {
     "data": {
      "text/plain": [
       "0.0008098882549305523"
      ]
     },
     "execution_count": 51,
     "metadata": {},
     "output_type": "execute_result"
    }
   ],
   "source": [
    "x1[2*delta_t]"
   ]
  },
  {
   "cell_type": "code",
   "execution_count": 52,
   "id": "b0b74be7-f4c5-4a8e-8322-1a2d33687d44",
   "metadata": {},
   "outputs": [
    {
     "data": {
      "text/plain": [
       "919011.1745069448"
      ]
     },
     "execution_count": 52,
     "metadata": {},
     "output_type": "execute_result"
    }
   ],
   "source": [
    "x2[2*delta_t]"
   ]
  }
 ],
 "metadata": {
  "kernelspec": {
   "display_name": "Python 3 (ipykernel)",
   "language": "python",
   "name": "python3"
  },
  "language_info": {
   "codemirror_mode": {
    "name": "ipython",
    "version": 3
   },
   "file_extension": ".py",
   "mimetype": "text/x-python",
   "name": "python",
   "nbconvert_exporter": "python",
   "pygments_lexer": "ipython3",
   "version": "3.9.16"
  }
 },
 "nbformat": 4,
 "nbformat_minor": 5
}
