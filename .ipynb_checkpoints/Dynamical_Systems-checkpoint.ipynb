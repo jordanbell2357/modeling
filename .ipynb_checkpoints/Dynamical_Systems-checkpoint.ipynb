{
 "cells": [
  {
   "cell_type": "markdown",
   "id": "beca4234-6cff-48a1-9eb5-917088a5bba1",
   "metadata": {},
   "source": [
    "$s'(t) = f(s(t),t)$\n",
    "\n",
    "$f(s,t) = \\nu \\left(1-\\frac{s}{C}\\right) s$"
   ]
  },
  {
   "cell_type": "code",
   "execution_count": null,
   "id": "77057b4f-e9f1-4637-8e9d-57d0cdd3caf2",
   "metadata": {},
   "outputs": [],
   "source": []
  }
 ],
 "metadata": {
  "kernelspec": {
   "display_name": "Python 3 (ipykernel)",
   "language": "python",
   "name": "python3"
  },
  "language_info": {
   "codemirror_mode": {
    "name": "ipython",
    "version": 3
   },
   "file_extension": ".py",
   "mimetype": "text/x-python",
   "name": "python",
   "nbconvert_exporter": "python",
   "pygments_lexer": "ipython3",
   "version": "3.9.16"
  }
 },
 "nbformat": 4,
 "nbformat_minor": 5
}
